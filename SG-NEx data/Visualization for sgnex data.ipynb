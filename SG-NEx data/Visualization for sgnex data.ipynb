{
 "cells": [
  {
   "cell_type": "code",
   "execution_count": 28,
   "id": "056d89ba",
   "metadata": {},
   "outputs": [],
   "source": [
    "import pandas as pd"
   ]
  },
  {
   "cell_type": "code",
   "execution_count": 29,
   "id": "2e8ce5b5",
   "metadata": {},
   "outputs": [],
   "source": [
    "hepG2_52 = pd.read_csv('/Users/shien/Downloads/DSA4262/project2/sgnex_predictions/HepG2_rep5_run2.csv')\n",
    "hepG2_52 = hepG2_52.drop(columns = ['Unnamed: 0'])\n",
    "hepG2_52.insert(0, 'Cell_line', 'HepG2')\n"
   ]
  },
  {
   "cell_type": "code",
   "execution_count": 30,
   "id": "b83fb7f7",
   "metadata": {},
   "outputs": [
    {
     "data": {
      "text/plain": [
       "1143605"
      ]
     },
     "execution_count": 30,
     "metadata": {},
     "output_type": "execute_result"
    }
   ],
   "source": [
    "len(hepG2_52)"
   ]
  },
  {
   "cell_type": "code",
   "execution_count": 31,
   "id": "834857c9",
   "metadata": {},
   "outputs": [
    {
     "data": {
      "text/plain": [
       "1041322"
      ]
     },
     "execution_count": 31,
     "metadata": {},
     "output_type": "execute_result"
    }
   ],
   "source": [
    "a549_61 = pd.read_csv('/Users/shien/Downloads/DSA4262/project2/sgnex_predictions/a549_rep6_run1.csv')\n",
    "a549_61 = a549_61.drop(columns = ['Unnamed: 0'])\n",
    "a549_61.insert(0, 'Cell_line', 'A549')\n",
    "len(a549_61)"
   ]
  },
  {
   "cell_type": "code",
   "execution_count": 32,
   "id": "23963006",
   "metadata": {},
   "outputs": [],
   "source": [
    "a549_51 = pd.read_csv('/Users/shien/Downloads/DSA4262/project2/sgnex_predictions/a549_rep5_run1.csv')\n",
    "a549_51 = a549_51.drop(columns = ['Unnamed: 0'])\n",
    "a549_51.insert(0, 'Cell_line', 'A549')"
   ]
  },
  {
   "cell_type": "code",
   "execution_count": 33,
   "id": "b5f637ac",
   "metadata": {},
   "outputs": [
    {
     "data": {
      "text/plain": [
       "866178"
      ]
     },
     "execution_count": 33,
     "metadata": {},
     "output_type": "execute_result"
    }
   ],
   "source": [
    "hct116_34 = pd.read_csv('/Users/shien/Downloads/DSA4262/project2/sgnex_predictions/hct116_rep3_run4.csv')\n",
    "hct116_34 = hct116_34.drop(columns = ['Unnamed: 0'])\n",
    "hct116_34.insert(0, 'Cell_line', 'Hct116')\n",
    "len(hct116_34)"
   ]
  },
  {
   "cell_type": "code",
   "execution_count": 34,
   "id": "8c66c7e4",
   "metadata": {},
   "outputs": [
    {
     "data": {
      "text/plain": [
       "934332"
      ]
     },
     "execution_count": 34,
     "metadata": {},
     "output_type": "execute_result"
    }
   ],
   "source": [
    "hct116_31 = pd.read_csv('/Users/shien/Downloads/DSA4262/project2/sgnex_predictions/hct116_rep3_run1.csv')\n",
    "hct116_31 = hct116_31.drop(columns = ['Unnamed: 0'])\n",
    "hct116_31.insert(0, 'Cell_line', 'Hct116')\n",
    "len(hct116_31)"
   ]
  },
  {
   "cell_type": "code",
   "execution_count": 35,
   "id": "5a997e79",
   "metadata": {},
   "outputs": [
    {
     "data": {
      "text/plain": [
       "1140289"
      ]
     },
     "execution_count": 35,
     "metadata": {},
     "output_type": "execute_result"
    }
   ],
   "source": [
    "hepG2_61 = pd.read_csv('/Users/shien/Downloads/DSA4262/project2/sgnex_predictions/HepG2_rep6_run1.csv')\n",
    "hepG2_61 = hepG2_61.drop(columns = ['Unnamed: 0'])\n",
    "hepG2_61.insert(0, 'Cell_line', 'HepG2')\n",
    "len(hepG2_61)"
   ]
  },
  {
   "cell_type": "code",
   "execution_count": 36,
   "id": "f57a9c21",
   "metadata": {},
   "outputs": [
    {
     "data": {
      "text/plain": [
       "690478"
      ]
     },
     "execution_count": 36,
     "metadata": {},
     "output_type": "execute_result"
    }
   ],
   "source": [
    "k562_41 = pd.read_csv('/Users/shien/Downloads/DSA4262/project2/sgnex_predictions/K562_rep4_run1.csv')\n",
    "k562_41 = k562_41.drop(columns = ['Unnamed: 0'])\n",
    "k562_41.insert(0, 'Cell_line', 'K562')\n",
    "len(k562_41)"
   ]
  },
  {
   "cell_type": "code",
   "execution_count": 37,
   "id": "9d4b11a8",
   "metadata": {},
   "outputs": [
    {
     "data": {
      "text/plain": [
       "650624"
      ]
     },
     "execution_count": 37,
     "metadata": {},
     "output_type": "execute_result"
    }
   ],
   "source": [
    "k562_51 = pd.read_csv('/Users/shien/Downloads/DSA4262/project2/sgnex_predictions/K562_rep5_run1.csv')\n",
    "k562_51 = k562_51.drop(columns = ['Unnamed: 0'])\n",
    "k562_51.insert(0, 'Cell_line', 'K562')\n",
    "len(k562_51)"
   ]
  },
  {
   "cell_type": "code",
   "execution_count": 38,
   "id": "ba078a69",
   "metadata": {},
   "outputs": [
    {
     "data": {
      "text/plain": [
       "658791"
      ]
     },
     "execution_count": 38,
     "metadata": {},
     "output_type": "execute_result"
    }
   ],
   "source": [
    "k562_61 = pd.read_csv('/Users/shien/Downloads/DSA4262/project2/sgnex_predictions/K562_rep6_run1.csv')\n",
    "k562_61 = k562_61.drop(columns = ['Unnamed: 0'])\n",
    "k562_61.insert(0, 'Cell_line', 'K562')\n",
    "len(k562_61)"
   ]
  },
  {
   "cell_type": "code",
   "execution_count": 39,
   "id": "38c964c4",
   "metadata": {},
   "outputs": [
    {
     "data": {
      "text/plain": [
       "974733"
      ]
     },
     "execution_count": 39,
     "metadata": {},
     "output_type": "execute_result"
    }
   ],
   "source": [
    "mcf7_31 = pd.read_csv('/Users/shien/Downloads/DSA4262/project2/sgnex_predictions/MCF7_rep3_run1.csv')\n",
    "mcf7_31 = mcf7_31.drop(columns = ['Unnamed: 0'])\n",
    "mcf7_31.insert(0, 'Cell_line', 'MCF7')\n",
    "len(mcf7_31)"
   ]
  },
  {
   "cell_type": "code",
   "execution_count": 40,
   "id": "fc5e4123",
   "metadata": {},
   "outputs": [
    {
     "data": {
      "text/html": [
       "<div>\n",
       "<style scoped>\n",
       "    .dataframe tbody tr th:only-of-type {\n",
       "        vertical-align: middle;\n",
       "    }\n",
       "\n",
       "    .dataframe tbody tr th {\n",
       "        vertical-align: top;\n",
       "    }\n",
       "\n",
       "    .dataframe thead th {\n",
       "        text-align: right;\n",
       "    }\n",
       "</style>\n",
       "<table border=\"1\" class=\"dataframe\">\n",
       "  <thead>\n",
       "    <tr style=\"text-align: right;\">\n",
       "      <th></th>\n",
       "      <th>Cell_line</th>\n",
       "      <th>Read Lengths</th>\n",
       "      <th>right 5-mer</th>\n",
       "      <th>1-mer</th>\n",
       "      <th>2-mer</th>\n",
       "      <th>5-mer</th>\n",
       "      <th>right 1-mer</th>\n",
       "      <th>Mean of -1 Means</th>\n",
       "      <th>Mean of 0 Means</th>\n",
       "      <th>Mean of +1 Means</th>\n",
       "      <th>...</th>\n",
       "      <th>Var of 0 Means</th>\n",
       "      <th>Var of +1 Means</th>\n",
       "      <th>Var of -1 SD</th>\n",
       "      <th>Var of 0 SD</th>\n",
       "      <th>Var of +1 SD</th>\n",
       "      <th>Var of -1 Dwell</th>\n",
       "      <th>Var of 0 Dwell</th>\n",
       "      <th>Var of +1 Dwell</th>\n",
       "      <th>Score</th>\n",
       "      <th>Label</th>\n",
       "    </tr>\n",
       "  </thead>\n",
       "  <tbody>\n",
       "    <tr>\n",
       "      <th>0</th>\n",
       "      <td>MCF7</td>\n",
       "      <td>2</td>\n",
       "      <td>3</td>\n",
       "      <td>1</td>\n",
       "      <td>1</td>\n",
       "      <td>3</td>\n",
       "      <td>2</td>\n",
       "      <td>108.45</td>\n",
       "      <td>110.30</td>\n",
       "      <td>94.75</td>\n",
       "      <td>...</td>\n",
       "      <td>1.620</td>\n",
       "      <td>0.605</td>\n",
       "      <td>0.896461</td>\n",
       "      <td>0.160477</td>\n",
       "      <td>0.101917</td>\n",
       "      <td>0.000240</td>\n",
       "      <td>1.393015e-05</td>\n",
       "      <td>1.574144e-05</td>\n",
       "      <td>0.05</td>\n",
       "      <td>0</td>\n",
       "    </tr>\n",
       "    <tr>\n",
       "      <th>1</th>\n",
       "      <td>MCF7</td>\n",
       "      <td>2</td>\n",
       "      <td>3</td>\n",
       "      <td>1</td>\n",
       "      <td>1</td>\n",
       "      <td>3</td>\n",
       "      <td>1</td>\n",
       "      <td>107.55</td>\n",
       "      <td>106.20</td>\n",
       "      <td>94.70</td>\n",
       "      <td>...</td>\n",
       "      <td>0.020</td>\n",
       "      <td>0.080</td>\n",
       "      <td>1.495124</td>\n",
       "      <td>0.074010</td>\n",
       "      <td>0.018634</td>\n",
       "      <td>0.000005</td>\n",
       "      <td>9.978136e-07</td>\n",
       "      <td>9.956068e-08</td>\n",
       "      <td>0.07</td>\n",
       "      <td>0</td>\n",
       "    </tr>\n",
       "    <tr>\n",
       "      <th>2</th>\n",
       "      <td>MCF7</td>\n",
       "      <td>2</td>\n",
       "      <td>2</td>\n",
       "      <td>1</td>\n",
       "      <td>1</td>\n",
       "      <td>1</td>\n",
       "      <td>1</td>\n",
       "      <td>106.65</td>\n",
       "      <td>100.25</td>\n",
       "      <td>89.05</td>\n",
       "      <td>...</td>\n",
       "      <td>2.205</td>\n",
       "      <td>0.245</td>\n",
       "      <td>0.002380</td>\n",
       "      <td>0.617160</td>\n",
       "      <td>0.015908</td>\n",
       "      <td>0.000198</td>\n",
       "      <td>2.714450e-06</td>\n",
       "      <td>7.376681e-07</td>\n",
       "      <td>0.06</td>\n",
       "      <td>0</td>\n",
       "    </tr>\n",
       "    <tr>\n",
       "      <th>3</th>\n",
       "      <td>MCF7</td>\n",
       "      <td>2</td>\n",
       "      <td>3</td>\n",
       "      <td>1</td>\n",
       "      <td>1</td>\n",
       "      <td>1</td>\n",
       "      <td>6</td>\n",
       "      <td>103.95</td>\n",
       "      <td>97.50</td>\n",
       "      <td>89.10</td>\n",
       "      <td>...</td>\n",
       "      <td>40.500</td>\n",
       "      <td>0.080</td>\n",
       "      <td>10.958840</td>\n",
       "      <td>0.382812</td>\n",
       "      <td>0.002005</td>\n",
       "      <td>0.000061</td>\n",
       "      <td>2.178000e-07</td>\n",
       "      <td>2.644823e-05</td>\n",
       "      <td>0.05</td>\n",
       "      <td>0</td>\n",
       "    </tr>\n",
       "    <tr>\n",
       "      <th>4</th>\n",
       "      <td>MCF7</td>\n",
       "      <td>2</td>\n",
       "      <td>3</td>\n",
       "      <td>2</td>\n",
       "      <td>1</td>\n",
       "      <td>2</td>\n",
       "      <td>1</td>\n",
       "      <td>119.55</td>\n",
       "      <td>94.95</td>\n",
       "      <td>85.40</td>\n",
       "      <td>...</td>\n",
       "      <td>13.005</td>\n",
       "      <td>0.720</td>\n",
       "      <td>10.580215</td>\n",
       "      <td>0.531734</td>\n",
       "      <td>0.022812</td>\n",
       "      <td>0.000008</td>\n",
       "      <td>1.872022e-05</td>\n",
       "      <td>3.307592e-06</td>\n",
       "      <td>0.10</td>\n",
       "      <td>0</td>\n",
       "    </tr>\n",
       "  </tbody>\n",
       "</table>\n",
       "<p>5 rows × 51 columns</p>\n",
       "</div>"
      ],
      "text/plain": [
       "  Cell_line  Read Lengths  right 5-mer  1-mer  2-mer  5-mer  right 1-mer  \\\n",
       "0      MCF7             2            3      1      1      3            2   \n",
       "1      MCF7             2            3      1      1      3            1   \n",
       "2      MCF7             2            2      1      1      1            1   \n",
       "3      MCF7             2            3      1      1      1            6   \n",
       "4      MCF7             2            3      2      1      2            1   \n",
       "\n",
       "   Mean of -1 Means  Mean of 0 Means  Mean of +1 Means  ...  Var of 0 Means  \\\n",
       "0            108.45           110.30             94.75  ...           1.620   \n",
       "1            107.55           106.20             94.70  ...           0.020   \n",
       "2            106.65           100.25             89.05  ...           2.205   \n",
       "3            103.95            97.50             89.10  ...          40.500   \n",
       "4            119.55            94.95             85.40  ...          13.005   \n",
       "\n",
       "   Var of +1 Means  Var of -1 SD  Var of 0 SD  Var of +1 SD  Var of -1 Dwell  \\\n",
       "0            0.605      0.896461     0.160477      0.101917         0.000240   \n",
       "1            0.080      1.495124     0.074010      0.018634         0.000005   \n",
       "2            0.245      0.002380     0.617160      0.015908         0.000198   \n",
       "3            0.080     10.958840     0.382812      0.002005         0.000061   \n",
       "4            0.720     10.580215     0.531734      0.022812         0.000008   \n",
       "\n",
       "   Var of 0 Dwell  Var of +1 Dwell  Score  Label  \n",
       "0    1.393015e-05     1.574144e-05   0.05      0  \n",
       "1    9.978136e-07     9.956068e-08   0.07      0  \n",
       "2    2.714450e-06     7.376681e-07   0.06      0  \n",
       "3    2.178000e-07     2.644823e-05   0.05      0  \n",
       "4    1.872022e-05     3.307592e-06   0.10      0  \n",
       "\n",
       "[5 rows x 51 columns]"
      ]
     },
     "execution_count": 40,
     "metadata": {},
     "output_type": "execute_result"
    }
   ],
   "source": [
    "mcf7_31.head()"
   ]
  },
  {
   "cell_type": "code",
   "execution_count": 41,
   "id": "2e75f719",
   "metadata": {},
   "outputs": [
    {
     "data": {
      "text/plain": [
       "974733"
      ]
     },
     "execution_count": 41,
     "metadata": {},
     "output_type": "execute_result"
    }
   ],
   "source": [
    "mcf7_41 = pd.read_csv('/Users/shien/Downloads/DSA4262/project2/sgnex_predictions/MCF7_rep4_run1.csv')\n",
    "mcf7_41 = mcf7_41.drop(columns = ['Unnamed: 0'])\n",
    "mcf7_41.insert(0, 'Cell_line', 'MCF7')\n",
    "len(mcf7_41)"
   ]
  },
  {
   "cell_type": "code",
   "execution_count": 42,
   "id": "bb137f40",
   "metadata": {},
   "outputs": [
    {
     "data": {
      "text/html": [
       "<div>\n",
       "<style scoped>\n",
       "    .dataframe tbody tr th:only-of-type {\n",
       "        vertical-align: middle;\n",
       "    }\n",
       "\n",
       "    .dataframe tbody tr th {\n",
       "        vertical-align: top;\n",
       "    }\n",
       "\n",
       "    .dataframe thead th {\n",
       "        text-align: right;\n",
       "    }\n",
       "</style>\n",
       "<table border=\"1\" class=\"dataframe\">\n",
       "  <thead>\n",
       "    <tr style=\"text-align: right;\">\n",
       "      <th></th>\n",
       "      <th>Cell_line</th>\n",
       "      <th>Read Lengths</th>\n",
       "      <th>right 5-mer</th>\n",
       "      <th>1-mer</th>\n",
       "      <th>2-mer</th>\n",
       "      <th>5-mer</th>\n",
       "      <th>right 1-mer</th>\n",
       "      <th>Mean of -1 Means</th>\n",
       "      <th>Mean of 0 Means</th>\n",
       "      <th>Mean of +1 Means</th>\n",
       "      <th>...</th>\n",
       "      <th>Var of 0 Means</th>\n",
       "      <th>Var of +1 Means</th>\n",
       "      <th>Var of -1 SD</th>\n",
       "      <th>Var of 0 SD</th>\n",
       "      <th>Var of +1 SD</th>\n",
       "      <th>Var of -1 Dwell</th>\n",
       "      <th>Var of 0 Dwell</th>\n",
       "      <th>Var of +1 Dwell</th>\n",
       "      <th>Score</th>\n",
       "      <th>Label</th>\n",
       "    </tr>\n",
       "  </thead>\n",
       "  <tbody>\n",
       "    <tr>\n",
       "      <th>0</th>\n",
       "      <td>MCF7</td>\n",
       "      <td>2</td>\n",
       "      <td>3</td>\n",
       "      <td>1</td>\n",
       "      <td>1</td>\n",
       "      <td>3</td>\n",
       "      <td>2</td>\n",
       "      <td>108.45</td>\n",
       "      <td>110.30</td>\n",
       "      <td>94.75</td>\n",
       "      <td>...</td>\n",
       "      <td>1.620</td>\n",
       "      <td>0.605</td>\n",
       "      <td>0.896461</td>\n",
       "      <td>0.160477</td>\n",
       "      <td>0.101917</td>\n",
       "      <td>0.000240</td>\n",
       "      <td>1.393015e-05</td>\n",
       "      <td>1.574144e-05</td>\n",
       "      <td>0.05</td>\n",
       "      <td>0</td>\n",
       "    </tr>\n",
       "    <tr>\n",
       "      <th>1</th>\n",
       "      <td>MCF7</td>\n",
       "      <td>2</td>\n",
       "      <td>3</td>\n",
       "      <td>1</td>\n",
       "      <td>1</td>\n",
       "      <td>3</td>\n",
       "      <td>1</td>\n",
       "      <td>107.55</td>\n",
       "      <td>106.20</td>\n",
       "      <td>94.70</td>\n",
       "      <td>...</td>\n",
       "      <td>0.020</td>\n",
       "      <td>0.080</td>\n",
       "      <td>1.495124</td>\n",
       "      <td>0.074010</td>\n",
       "      <td>0.018634</td>\n",
       "      <td>0.000005</td>\n",
       "      <td>9.978136e-07</td>\n",
       "      <td>9.956068e-08</td>\n",
       "      <td>0.07</td>\n",
       "      <td>0</td>\n",
       "    </tr>\n",
       "    <tr>\n",
       "      <th>2</th>\n",
       "      <td>MCF7</td>\n",
       "      <td>2</td>\n",
       "      <td>2</td>\n",
       "      <td>1</td>\n",
       "      <td>1</td>\n",
       "      <td>1</td>\n",
       "      <td>1</td>\n",
       "      <td>106.65</td>\n",
       "      <td>100.25</td>\n",
       "      <td>89.05</td>\n",
       "      <td>...</td>\n",
       "      <td>2.205</td>\n",
       "      <td>0.245</td>\n",
       "      <td>0.002380</td>\n",
       "      <td>0.617160</td>\n",
       "      <td>0.015908</td>\n",
       "      <td>0.000198</td>\n",
       "      <td>2.714450e-06</td>\n",
       "      <td>7.376681e-07</td>\n",
       "      <td>0.06</td>\n",
       "      <td>0</td>\n",
       "    </tr>\n",
       "    <tr>\n",
       "      <th>3</th>\n",
       "      <td>MCF7</td>\n",
       "      <td>2</td>\n",
       "      <td>3</td>\n",
       "      <td>1</td>\n",
       "      <td>1</td>\n",
       "      <td>1</td>\n",
       "      <td>6</td>\n",
       "      <td>103.95</td>\n",
       "      <td>97.50</td>\n",
       "      <td>89.10</td>\n",
       "      <td>...</td>\n",
       "      <td>40.500</td>\n",
       "      <td>0.080</td>\n",
       "      <td>10.958840</td>\n",
       "      <td>0.382812</td>\n",
       "      <td>0.002005</td>\n",
       "      <td>0.000061</td>\n",
       "      <td>2.178000e-07</td>\n",
       "      <td>2.644823e-05</td>\n",
       "      <td>0.05</td>\n",
       "      <td>0</td>\n",
       "    </tr>\n",
       "    <tr>\n",
       "      <th>4</th>\n",
       "      <td>MCF7</td>\n",
       "      <td>2</td>\n",
       "      <td>3</td>\n",
       "      <td>2</td>\n",
       "      <td>1</td>\n",
       "      <td>2</td>\n",
       "      <td>1</td>\n",
       "      <td>119.55</td>\n",
       "      <td>94.95</td>\n",
       "      <td>85.40</td>\n",
       "      <td>...</td>\n",
       "      <td>13.005</td>\n",
       "      <td>0.720</td>\n",
       "      <td>10.580215</td>\n",
       "      <td>0.531734</td>\n",
       "      <td>0.022812</td>\n",
       "      <td>0.000008</td>\n",
       "      <td>1.872022e-05</td>\n",
       "      <td>3.307592e-06</td>\n",
       "      <td>0.10</td>\n",
       "      <td>0</td>\n",
       "    </tr>\n",
       "  </tbody>\n",
       "</table>\n",
       "<p>5 rows × 51 columns</p>\n",
       "</div>"
      ],
      "text/plain": [
       "  Cell_line  Read Lengths  right 5-mer  1-mer  2-mer  5-mer  right 1-mer  \\\n",
       "0      MCF7             2            3      1      1      3            2   \n",
       "1      MCF7             2            3      1      1      3            1   \n",
       "2      MCF7             2            2      1      1      1            1   \n",
       "3      MCF7             2            3      1      1      1            6   \n",
       "4      MCF7             2            3      2      1      2            1   \n",
       "\n",
       "   Mean of -1 Means  Mean of 0 Means  Mean of +1 Means  ...  Var of 0 Means  \\\n",
       "0            108.45           110.30             94.75  ...           1.620   \n",
       "1            107.55           106.20             94.70  ...           0.020   \n",
       "2            106.65           100.25             89.05  ...           2.205   \n",
       "3            103.95            97.50             89.10  ...          40.500   \n",
       "4            119.55            94.95             85.40  ...          13.005   \n",
       "\n",
       "   Var of +1 Means  Var of -1 SD  Var of 0 SD  Var of +1 SD  Var of -1 Dwell  \\\n",
       "0            0.605      0.896461     0.160477      0.101917         0.000240   \n",
       "1            0.080      1.495124     0.074010      0.018634         0.000005   \n",
       "2            0.245      0.002380     0.617160      0.015908         0.000198   \n",
       "3            0.080     10.958840     0.382812      0.002005         0.000061   \n",
       "4            0.720     10.580215     0.531734      0.022812         0.000008   \n",
       "\n",
       "   Var of 0 Dwell  Var of +1 Dwell  Score  Label  \n",
       "0    1.393015e-05     1.574144e-05   0.05      0  \n",
       "1    9.978136e-07     9.956068e-08   0.07      0  \n",
       "2    2.714450e-06     7.376681e-07   0.06      0  \n",
       "3    2.178000e-07     2.644823e-05   0.05      0  \n",
       "4    1.872022e-05     3.307592e-06   0.10      0  \n",
       "\n",
       "[5 rows x 51 columns]"
      ]
     },
     "execution_count": 42,
     "metadata": {},
     "output_type": "execute_result"
    }
   ],
   "source": [
    "mcf7_41.head()"
   ]
  },
  {
   "cell_type": "code",
   "execution_count": 43,
   "id": "213ba77d",
   "metadata": {},
   "outputs": [
    {
     "data": {
      "text/plain": [
       "1141076"
      ]
     },
     "execution_count": 43,
     "metadata": {},
     "output_type": "execute_result"
    }
   ],
   "source": [
    "hct116_43 = pd.read_csv('/Users/shien/Downloads/DSA4262/project2/sgnex_predictions/hct116_rep4_run3.csv')\n",
    "hct116_43  = hct116_43 .drop(columns = ['Unnamed: 0'])\n",
    "hct116_43 .insert(0, 'Cell_line', 'Hct116')\n",
    "len(hct116_43)"
   ]
  },
  {
   "cell_type": "code",
   "execution_count": 44,
   "id": "916b987e",
   "metadata": {},
   "outputs": [],
   "source": [
    "combined = pd.concat([hepG2_52,a549_61,a549_51,hct116_34,hct116_31,hepG2_61,k562_41,k562_51,k562_61,mcf7_31,hct116_43])\n"
   ]
  },
  {
   "cell_type": "code",
   "execution_count": 45,
   "id": "f1642787",
   "metadata": {},
   "outputs": [
    {
     "data": {
      "text/plain": [
       "9844412"
      ]
     },
     "execution_count": 45,
     "metadata": {},
     "output_type": "execute_result"
    }
   ],
   "source": [
    "len(combined)"
   ]
  },
  {
   "cell_type": "code",
   "execution_count": 46,
   "id": "44c26e04",
   "metadata": {},
   "outputs": [],
   "source": [
    "import seaborn as sns\n",
    "import matplotlib.pyplot as plt\n"
   ]
  },
  {
   "cell_type": "code",
   "execution_count": 47,
   "id": "9e9c4797",
   "metadata": {},
   "outputs": [],
   "source": [
    "modified = combined.loc[combined['Label'] == 1]"
   ]
  },
  {
   "cell_type": "code",
   "execution_count": 48,
   "id": "2af26d29",
   "metadata": {},
   "outputs": [
    {
     "data": {
      "text/plain": [
       "26424"
      ]
     },
     "execution_count": 48,
     "metadata": {},
     "output_type": "execute_result"
    }
   ],
   "source": [
    "len(modified)"
   ]
  },
  {
   "cell_type": "code",
   "execution_count": 49,
   "id": "8098573d",
   "metadata": {},
   "outputs": [
    {
     "data": {
      "text/plain": [
       "9817988"
      ]
     },
     "execution_count": 49,
     "metadata": {},
     "output_type": "execute_result"
    }
   ],
   "source": [
    "unmodified = combined.loc[combined['Label'] == 0]\n",
    "len(unmodified)"
   ]
  },
  {
   "cell_type": "code",
   "execution_count": 50,
   "id": "f569c400",
   "metadata": {},
   "outputs": [],
   "source": [
    "df = combined[['1-mer', '2-mer','5-mer','Mean of 0 Means', 'Label','Cell_line']]"
   ]
  },
  {
   "cell_type": "code",
   "execution_count": 51,
   "id": "9f9615d7",
   "metadata": {},
   "outputs": [],
   "source": [
    "df = df.rename(columns = {'1-mer': 'first', '2-mer':'second', '5-mer':'fifth', 'Mean of 0 Means': 'Means of RNA Current'})"
   ]
  },
  {
   "cell_type": "code",
   "execution_count": 52,
   "id": "dd019a92",
   "metadata": {},
   "outputs": [
    {
     "data": {
      "text/html": [
       "<div>\n",
       "<style scoped>\n",
       "    .dataframe tbody tr th:only-of-type {\n",
       "        vertical-align: middle;\n",
       "    }\n",
       "\n",
       "    .dataframe tbody tr th {\n",
       "        vertical-align: top;\n",
       "    }\n",
       "\n",
       "    .dataframe thead th {\n",
       "        text-align: right;\n",
       "    }\n",
       "</style>\n",
       "<table border=\"1\" class=\"dataframe\">\n",
       "  <thead>\n",
       "    <tr style=\"text-align: right;\">\n",
       "      <th></th>\n",
       "      <th>first</th>\n",
       "      <th>second</th>\n",
       "      <th>fifth</th>\n",
       "      <th>Means of RNA Current</th>\n",
       "      <th>Label</th>\n",
       "      <th>Cell_line</th>\n",
       "    </tr>\n",
       "  </thead>\n",
       "  <tbody>\n",
       "    <tr>\n",
       "      <th>0</th>\n",
       "      <td>3</td>\n",
       "      <td>1</td>\n",
       "      <td>2</td>\n",
       "      <td>96.066667</td>\n",
       "      <td>0</td>\n",
       "      <td>HepG2</td>\n",
       "    </tr>\n",
       "    <tr>\n",
       "      <th>1</th>\n",
       "      <td>3</td>\n",
       "      <td>2</td>\n",
       "      <td>2</td>\n",
       "      <td>118.590000</td>\n",
       "      <td>0</td>\n",
       "      <td>HepG2</td>\n",
       "    </tr>\n",
       "    <tr>\n",
       "      <th>2</th>\n",
       "      <td>1</td>\n",
       "      <td>1</td>\n",
       "      <td>2</td>\n",
       "      <td>99.060000</td>\n",
       "      <td>0</td>\n",
       "      <td>HepG2</td>\n",
       "    </tr>\n",
       "    <tr>\n",
       "      <th>3</th>\n",
       "      <td>3</td>\n",
       "      <td>2</td>\n",
       "      <td>3</td>\n",
       "      <td>119.320000</td>\n",
       "      <td>0</td>\n",
       "      <td>HepG2</td>\n",
       "    </tr>\n",
       "    <tr>\n",
       "      <th>4</th>\n",
       "      <td>2</td>\n",
       "      <td>2</td>\n",
       "      <td>1</td>\n",
       "      <td>118.000000</td>\n",
       "      <td>0</td>\n",
       "      <td>HepG2</td>\n",
       "    </tr>\n",
       "  </tbody>\n",
       "</table>\n",
       "</div>"
      ],
      "text/plain": [
       "   first  second  fifth  Means of RNA Current  Label Cell_line\n",
       "0      3       1      2             96.066667      0     HepG2\n",
       "1      3       2      2            118.590000      0     HepG2\n",
       "2      1       1      2             99.060000      0     HepG2\n",
       "3      3       2      3            119.320000      0     HepG2\n",
       "4      2       2      1            118.000000      0     HepG2"
      ]
     },
     "execution_count": 52,
     "metadata": {},
     "output_type": "execute_result"
    }
   ],
   "source": [
    "df.head()"
   ]
  },
  {
   "cell_type": "code",
   "execution_count": 53,
   "id": "3870bfa6",
   "metadata": {},
   "outputs": [],
   "source": [
    "df = df.query('first == 2 & second == 2 & fifth == 3')"
   ]
  },
  {
   "cell_type": "code",
   "execution_count": 57,
   "id": "d1fc5d90",
   "metadata": {},
   "outputs": [
    {
     "data": {
      "image/png": "[encoded data removed]",
      "text/plain": [
       "<Figure size 432x288 with 1 Axes>"
      ]
     },
     "metadata": {
      "needs_background": "light"
     },
     "output_type": "display_data"
    }
   ],
   "source": [
    "g = sns.boxplot(x = df['Cell_line'],\n",
    "            y = df['Means of RNA Current'],\n",
    "            hue = df['Label'])\n",
    "g.set_title('Boxplot of mean of average RNA current')\n",
    "g.set_ylabel('Mean of average RNA current')\n",
    "legend_labels, _= g.get_legend_handles_labels()\n",
    "g.legend(legend_labels,['unmodified', 'modified'], bbox_to_anchor=(1.05, 1),title = 'Label', borderaxespad=0)\n",
    "plt.show(g)\n",
    "\n"
   ]
  }
 ],
 "metadata": {
  "kernelspec": {
   "display_name": "Python 3",
   "language": "python",
   "name": "python3"
  },
  "language_info": {
   "codemirror_mode": {
    "name": "ipython",
    "version": 3
   },
   "file_extension": ".py",
   "mimetype": "text/x-python",
   "name": "python",
   "nbconvert_exporter": "python",
   "pygments_lexer": "ipython3",
   "version": "3.8.8"
  }
 },
 "nbformat": 4,
 "nbformat_minor": 5
}
